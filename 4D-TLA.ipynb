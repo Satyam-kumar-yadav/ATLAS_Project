{
 "cells": [
  {
   "cell_type": "code",
   "execution_count": 1,
   "metadata": {
    "colab": {
     "base_uri": "https://localhost:8080/"
    },
    "id": "xCtOpDlrV7nR",
    "outputId": "d7b1aca4-44e3-47cb-a9e1-aa72e30781f8"
   },
   "outputs": [
    {
     "name": "stdout",
     "output_type": "stream",
     "text": [
      "Mounted at /content/gdrive\n"
     ]
    }
   ],
   "source": [
    "from google.colab import  drive\n",
    "drive.mount('/content/gdrive')"
   ]
  },
  {
   "cell_type": "code",
   "execution_count": 148,
   "metadata": {
    "colab": {
     "base_uri": "https://localhost:8080/",
     "height": 35
    },
    "id": "CwlR1BT3Y6Hs",
    "outputId": "8f98b5f8-0b05-4587-cd6a-2a63aa27f09d"
   },
   "outputs": [
    {
     "data": {
      "application/vnd.google.colaboratory.intrinsic+json": {
       "type": "string"
      },
      "text/plain": [
       "'3.7.10 (default, Feb 20 2021, 21:17:23) \\n[GCC 7.5.0]'"
      ]
     },
     "execution_count": 148,
     "metadata": {
      "tags": []
     },
     "output_type": "execute_result"
    }
   ],
   "source": [
    "import sys\n",
    "import matplotlib.pyplot as plt\n",
    "import pandas as pd\n",
    "import numpy as np\n",
    "from sklearn.model_selection import train_test_split\n",
    "sys.version"
   ]
  },
  {
   "cell_type": "code",
   "execution_count": 149,
   "metadata": {
    "colab": {
     "base_uri": "https://localhost:8080/"
    },
    "id": "HHvgZEq4EyKn",
    "outputId": "309f8601-6513-46d3-e0b4-013531770ae0"
   },
   "outputs": [
    {
     "name": "stdout",
     "output_type": "stream",
     "text": [
      "Data Sample:\n",
      "         pt       eta       phi          E\n",
      "0  751597.0  0.858186 -1.842170  1069460.0\n",
      "1  640429.0  0.330450  0.704554   676000.0\n",
      "2  616229.0  0.973383 -1.565920   936707.0\n",
      "3  589524.0  0.390749  1.237340   640313.0\n",
      "4  545730.0  0.364057 -1.607320   583373.0\n"
     ]
    }
   ],
   "source": [
    "data_path = '/content/gdrive/MyDrive/Gsoc/jetData.pkl'\n",
    "data  = pd.read_pickle(data_path)\n",
    "print('Data Sample:')\n",
    "print(data.head())"
   ]
  },
  {
   "cell_type": "code",
   "execution_count": 150,
   "metadata": {
    "colab": {
     "base_uri": "https://localhost:8080/"
    },
    "id": "AP5vS_hvoN_h",
    "outputId": "ffba19a6-c0ef-4e24-ed71-ff32df38ae38"
   },
   "outputs": [
    {
     "name": "stdout",
     "output_type": "stream",
     "text": [
      "The number of entries in the training data: 22661\n"
     ]
    }
   ],
   "source": [
    "print('The number of entries in the training data:', len(data))"
   ]
  },
  {
   "cell_type": "code",
   "execution_count": 151,
   "metadata": {
    "id": "Z4AR85bzy3WE"
   },
   "outputs": [],
   "source": [
    "data['pt'] = data['pt'].apply(lambda x : x*(1e-6))\n",
    "data['E'] = data['E'].apply(lambda x : x*(1e-6))"
   ]
  },
  {
   "cell_type": "code",
   "execution_count": 152,
   "metadata": {
    "colab": {
     "base_uri": "https://localhost:8080/",
     "height": 402
    },
    "id": "6i9CrbIoVRVq",
    "outputId": "1e7d7763-7b7f-48b9-dd4b-a4e693b5dbc6"
   },
   "outputs": [
    {
     "data": {
      "text/html": [
       "<div>\n",
       "<style scoped>\n",
       "    .dataframe tbody tr th:only-of-type {\n",
       "        vertical-align: middle;\n",
       "    }\n",
       "\n",
       "    .dataframe tbody tr th {\n",
       "        vertical-align: top;\n",
       "    }\n",
       "\n",
       "    .dataframe thead th {\n",
       "        text-align: right;\n",
       "    }\n",
       "</style>\n",
       "<table border=\"1\" class=\"dataframe\">\n",
       "  <thead>\n",
       "    <tr style=\"text-align: right;\">\n",
       "      <th></th>\n",
       "      <th>pt</th>\n",
       "      <th>eta</th>\n",
       "      <th>phi</th>\n",
       "      <th>E</th>\n",
       "    </tr>\n",
       "  </thead>\n",
       "  <tbody>\n",
       "    <tr>\n",
       "      <th>0</th>\n",
       "      <td>0.751597</td>\n",
       "      <td>0.858186</td>\n",
       "      <td>-1.842170</td>\n",
       "      <td>1.069460</td>\n",
       "    </tr>\n",
       "    <tr>\n",
       "      <th>1</th>\n",
       "      <td>0.640429</td>\n",
       "      <td>0.330450</td>\n",
       "      <td>0.704554</td>\n",
       "      <td>0.676000</td>\n",
       "    </tr>\n",
       "    <tr>\n",
       "      <th>2</th>\n",
       "      <td>0.616229</td>\n",
       "      <td>0.973383</td>\n",
       "      <td>-1.565920</td>\n",
       "      <td>0.936707</td>\n",
       "    </tr>\n",
       "    <tr>\n",
       "      <th>3</th>\n",
       "      <td>0.589524</td>\n",
       "      <td>0.390749</td>\n",
       "      <td>1.237340</td>\n",
       "      <td>0.640313</td>\n",
       "    </tr>\n",
       "    <tr>\n",
       "      <th>4</th>\n",
       "      <td>0.545730</td>\n",
       "      <td>0.364057</td>\n",
       "      <td>-1.607320</td>\n",
       "      <td>0.583373</td>\n",
       "    </tr>\n",
       "    <tr>\n",
       "      <th>...</th>\n",
       "      <td>...</td>\n",
       "      <td>...</td>\n",
       "      <td>...</td>\n",
       "      <td>...</td>\n",
       "    </tr>\n",
       "    <tr>\n",
       "      <th>22656</th>\n",
       "      <td>0.031727</td>\n",
       "      <td>1.209330</td>\n",
       "      <td>-1.832740</td>\n",
       "      <td>0.058571</td>\n",
       "    </tr>\n",
       "    <tr>\n",
       "      <th>22657</th>\n",
       "      <td>0.036076</td>\n",
       "      <td>-1.901150</td>\n",
       "      <td>1.240720</td>\n",
       "      <td>0.124037</td>\n",
       "    </tr>\n",
       "    <tr>\n",
       "      <th>22658</th>\n",
       "      <td>0.024791</td>\n",
       "      <td>3.085510</td>\n",
       "      <td>0.893034</td>\n",
       "      <td>0.271819</td>\n",
       "    </tr>\n",
       "    <tr>\n",
       "      <th>22659</th>\n",
       "      <td>0.029610</td>\n",
       "      <td>2.532910</td>\n",
       "      <td>-2.436230</td>\n",
       "      <td>0.187700</td>\n",
       "    </tr>\n",
       "    <tr>\n",
       "      <th>22660</th>\n",
       "      <td>0.025754</td>\n",
       "      <td>-2.806860</td>\n",
       "      <td>-2.143100</td>\n",
       "      <td>0.214097</td>\n",
       "    </tr>\n",
       "  </tbody>\n",
       "</table>\n",
       "<p>22661 rows × 4 columns</p>\n",
       "</div>"
      ],
      "text/plain": [
       "             pt       eta       phi         E\n",
       "0      0.751597  0.858186 -1.842170  1.069460\n",
       "1      0.640429  0.330450  0.704554  0.676000\n",
       "2      0.616229  0.973383 -1.565920  0.936707\n",
       "3      0.589524  0.390749  1.237340  0.640313\n",
       "4      0.545730  0.364057 -1.607320  0.583373\n",
       "...         ...       ...       ...       ...\n",
       "22656  0.031727  1.209330 -1.832740  0.058571\n",
       "22657  0.036076 -1.901150  1.240720  0.124037\n",
       "22658  0.024791  3.085510  0.893034  0.271819\n",
       "22659  0.029610  2.532910 -2.436230  0.187700\n",
       "22660  0.025754 -2.806860 -2.143100  0.214097\n",
       "\n",
       "[22661 rows x 4 columns]"
      ]
     },
     "execution_count": 152,
     "metadata": {
      "tags": []
     },
     "output_type": "execute_result"
    }
   ],
   "source": [
    "data"
   ]
  },
  {
   "cell_type": "code",
   "execution_count": 153,
   "metadata": {
    "colab": {
     "base_uri": "https://localhost:8080/",
     "height": 1000
    },
    "id": "V-TkznuVFbLW",
    "outputId": "4c77a0a4-9bde-434b-ce54-0015eb61df4f"
   },
   "outputs": [
    {
     "data": {
      "image/png": "[encoded data removed]",
      "text/plain": [
       "<Figure size 432x288 with 1 Axes>"
      ]
     },
     "metadata": {
      "needs_background": "light",
      "tags": []
     },
     "output_type": "display_data"
    },
    {
     "data": {
      "image/png": "[encoded data removed]",
      "text/plain": [
       "<Figure size 432x288 with 1 Axes>"
      ]
     },
     "metadata": {
      "needs_background": "light",
      "tags": []
     },
     "output_type": "display_data"
    },
    {
     "data": {
      "image/png": "[encoded data removed]",
      "text/plain": [
       "<Figure size 432x288 with 1 Axes>"
      ]
     },
     "metadata": {
      "needs_background": "light",
      "tags": []
     },
     "output_type": "display_data"
    },
    {
     "data": {
      "image/png": "[encoded data removed]",
      "text/plain": [
       "<Figure size 432x288 with 1 Axes>"
      ]
     },
     "metadata": {
      "needs_background": "light",
      "tags": []
     },
     "output_type": "display_data"
    }
   ],
   "source": [
    "import matplotlib.pyplot as plt\n",
    "\n",
    "unit_list = ['[log(GeV)]', '[rad/3]', '[rad/3]', '[log(GeV)]']\n",
    "variable_list = [r'$p_T$', r'$\\eta$', r'$\\phi$', r'$E$']\n",
    "\n",
    "branches=[\"pt\",\"eta\",\"phi\",\"E\"]\n",
    "\n",
    "n_bins = 100\n",
    "\n",
    "for kk in range(0,4):\n",
    "    n_hist_data, bin_edges, _ = plt.hist(data[branches[kk]], color='gray', label='Input', alpha=1, bins=n_bins)\n",
    "    plt.xlabel(xlabel=variable_list[kk] + ' ' + unit_list[kk])\n",
    "    plt.ylabel('# of events')\n",
    "    #plt.savefig(\"fourmomentum_\"+branches[kk],dpi=300)\n",
    "    plt.show()"
   ]
  },
  {
   "cell_type": "markdown",
   "metadata": {
    "id": "aEEIOeA-isG1"
   },
   "source": [
    "Normalization of Data"
   ]
  },
  {
   "cell_type": "code",
   "execution_count": 154,
   "metadata": {
    "id": "rLAnJ7EGVzcA"
   },
   "outputs": [],
   "source": [
    "import seaborn as sns\n",
    "from sklearn.preprocessing import MinMaxScaler,PowerTransformer,StandardScaler\n",
    "sc = StandardScaler()\n",
    "mi = MinMaxScaler()"
   ]
  },
  {
   "cell_type": "code",
   "execution_count": 155,
   "metadata": {
    "colab": {
     "base_uri": "https://localhost:8080/",
     "height": 312
    },
    "id": "deTPfsEefHk3",
    "outputId": "bb7e91bd-0fde-4d5c-b49f-4100530098dc"
   },
   "outputs": [
    {
     "data": {
      "text/plain": [
       "Text(0.5, 1.0, 'Normalized data')"
      ]
     },
     "execution_count": 155,
     "metadata": {
      "tags": []
     },
     "output_type": "execute_result"
    },
    {
     "data": {
      "image/png": "[encoded data removed]",
      "text/plain": [
       "<Figure size 432x288 with 2 Axes>"
      ]
     },
     "metadata": {
      "needs_background": "light",
      "tags": []
     },
     "output_type": "display_data"
    }
   ],
   "source": [
    "pt_normalized_data = mi.fit_transform(data['pt'].to_numpy().reshape(-1,1))\n",
    "fig, ax=plt.subplots(1,2)\n",
    "sns.histplot(data['pt'], ax=ax[0])\n",
    "ax[0].set_title(\"Original Data\")\n",
    "sns.histplot(pt_normalized_data, ax=ax[1])\n",
    "ax[1].set_title(\"Normalized data\")"
   ]
  },
  {
   "cell_type": "code",
   "execution_count": 156,
   "metadata": {
    "colab": {
     "base_uri": "https://localhost:8080/",
     "height": 312
    },
    "id": "Qa8_4ST3gueD",
    "outputId": "4862a681-5467-4656-8ea7-9fc781a65dd0"
   },
   "outputs": [
    {
     "data": {
      "text/plain": [
       "Text(0.5, 1.0, 'Normalized data')"
      ]
     },
     "execution_count": 156,
     "metadata": {
      "tags": []
     },
     "output_type": "execute_result"
    },
    {
     "data": {
      "image/png": "[encoded data removed]",
      "text/plain": [
       "<Figure size 432x288 with 2 Axes>"
      ]
     },
     "metadata": {
      "needs_background": "light",
      "tags": []
     },
     "output_type": "display_data"
    }
   ],
   "source": [
    "eta_normalized_data = sc.fit_transform(data['eta'].to_numpy().reshape(-1,1))\n",
    "fig, ax=plt.subplots(1,2)\n",
    "sns.histplot(data['eta'], ax=ax[0])\n",
    "ax[0].set_title(\"Original Data\")\n",
    "sns.histplot(eta_normalized_data, ax=ax[1])\n",
    "ax[1].set_title(\"Normalized data\")"
   ]
  },
  {
   "cell_type": "code",
   "execution_count": 157,
   "metadata": {
    "colab": {
     "base_uri": "https://localhost:8080/",
     "height": 312
    },
    "id": "2GJcSnASg8hR",
    "outputId": "bf79753b-9ff5-4176-ea50-0289223bb30b"
   },
   "outputs": [
    {
     "data": {
      "text/plain": [
       "Text(0.5, 1.0, 'Normalized data')"
      ]
     },
     "execution_count": 157,
     "metadata": {
      "tags": []
     },
     "output_type": "execute_result"
    },
    {
     "data": {
      "image/png": "[encoded data removed]",
      "text/plain": [
       "<Figure size 432x288 with 2 Axes>"
      ]
     },
     "metadata": {
      "needs_background": "light",
      "tags": []
     },
     "output_type": "display_data"
    }
   ],
   "source": [
    "phi_normalized_data = sc.fit_transform(data['phi'].to_numpy().reshape(-1,1))\n",
    "fig, ax=plt.subplots(1,2)\n",
    "sns.histplot(data['phi'], ax=ax[0])\n",
    "ax[0].set_title(\"Original Data\")\n",
    "sns.histplot(phi_normalized_data, ax=ax[1])\n",
    "ax[1].set_title(\"Normalized data\")"
   ]
  },
  {
   "cell_type": "code",
   "execution_count": 158,
   "metadata": {
    "colab": {
     "base_uri": "https://localhost:8080/",
     "height": 312
    },
    "id": "fHGiSqdiXoYn",
    "outputId": "9d30d61e-acaa-4414-c5e7-2e08e4fa36ce"
   },
   "outputs": [
    {
     "data": {
      "text/plain": [
       "Text(0.5, 1.0, 'Normalized data')"
      ]
     },
     "execution_count": 158,
     "metadata": {
      "tags": []
     },
     "output_type": "execute_result"
    },
    {
     "data": {
      "image/png": "[encoded data removed]",
      "text/plain": [
       "<Figure size 432x288 with 2 Axes>"
      ]
     },
     "metadata": {
      "needs_background": "light",
      "tags": []
     },
     "output_type": "display_data"
    }
   ],
   "source": [
    "E_normalized_data = mi.fit_transform(data['E'].to_numpy().reshape(-1,1))\n",
    "\n",
    "fig, ax=plt.subplots(1,2)\n",
    "sns.histplot(data['E'], ax=ax[0])\n",
    "ax[0].set_title(\"Original Data\")\n",
    "sns.histplot(E_normalized_data, ax=ax[1])\n",
    "ax[1].set_title(\"Normalized data\")"
   ]
  },
  {
   "cell_type": "code",
   "execution_count": 180,
   "metadata": {
    "id": "xKOal4y2iNTF"
   },
   "outputs": [],
   "source": [
    "pt_normalized_data = pt_normalized_data.reshape(-1,)\n",
    "eta_normalized_data = eta_normalized_data.reshape(-1,)\n",
    "phi_normalized_data = phi_normalized_data.reshape(-1,)\n",
    "E_normalized_data = E_normalized_data.reshape(-1,)\n",
    "data = pd.DataFrame({\n",
    "    'pt':pt_normalized_data,\n",
    "    'eta':eta_normalized_data,\n",
    "    'phi':phi_normalized_data,\n",
    "    'E':E_normalized_data\n",
    "})"
   ]
  },
  {
   "cell_type": "code",
   "execution_count": 181,
   "metadata": {
    "colab": {
     "base_uri": "https://localhost:8080/",
     "height": 1000
    },
    "id": "PE8RIfFwjvCV",
    "outputId": "909f3328-7df2-400c-8c55-6ff4f199dcd8"
   },
   "outputs": [
    {
     "data": {
      "image/png": "[encoded data removed]",
      "text/plain": [
       "<Figure size 432x288 with 1 Axes>"
      ]
     },
     "metadata": {
      "needs_background": "light",
      "tags": []
     },
     "output_type": "display_data"
    },
    {
     "data": {
      "image/png": "[encoded data removed]",
      "text/plain": [
       "<Figure size 432x288 with 1 Axes>"
      ]
     },
     "metadata": {
      "needs_background": "light",
      "tags": []
     },
     "output_type": "display_data"
    },
    {
     "data": {
      "image/png": "[encoded data removed]",
      "text/plain": [
       "<Figure size 432x288 with 1 Axes>"
      ]
     },
     "metadata": {
      "needs_background": "light",
      "tags": []
     },
     "output_type": "display_data"
    },
    {
     "data": {
      "image/png": "[encoded data removed]",
      "text/plain": [
       "<Figure size 432x288 with 1 Axes>"
      ]
     },
     "metadata": {
      "needs_background": "light",
      "tags": []
     },
     "output_type": "display_data"
    }
   ],
   "source": [
    "### Normalized \n",
    "unit_list = ['[log(GeV)]', '[rad/3]', '[rad/3]', '[log(GeV)]']\n",
    "variable_list = [r'$p_T$', r'$\\eta$', r'$\\phi$', r'$E$']\n",
    "\n",
    "branches=[\"pt\",\"eta\",\"phi\",\"E\"]\n",
    "\n",
    "n_bins = 100\n",
    "\n",
    "for kk in range(0,4):\n",
    "    n_hist_data, bin_edges, _ = plt.hist(data[branches[kk]], color='gray', label='Input', alpha=1, bins=n_bins)\n",
    "    plt.xlabel(xlabel=variable_list[kk] + ' ' + unit_list[kk])\n",
    "    plt.ylabel('# of events')\n",
    "    #plt.savefig(\"fourmomentum_\"+branches[kk],dpi=300)\n",
    "    plt.show()"
   ]
  },
  {
   "cell_type": "code",
   "execution_count": 182,
   "metadata": {
    "id": "JlCWqx1wo3cY"
   },
   "outputs": [],
   "source": [
    "train , test = train_test_split(data,test_size = 0.1,random_state = 41) ### Spliting the data"
   ]
  },
  {
   "cell_type": "code",
   "execution_count": 183,
   "metadata": {
    "colab": {
     "base_uri": "https://localhost:8080/",
     "height": 195
    },
    "id": "TwUuZywWtd_p",
    "outputId": "50931a2c-427b-4047-d936-0eb08b958309"
   },
   "outputs": [
    {
     "data": {
      "text/html": [
       "<div>\n",
       "<style scoped>\n",
       "    .dataframe tbody tr th:only-of-type {\n",
       "        vertical-align: middle;\n",
       "    }\n",
       "\n",
       "    .dataframe tbody tr th {\n",
       "        vertical-align: top;\n",
       "    }\n",
       "\n",
       "    .dataframe thead th {\n",
       "        text-align: right;\n",
       "    }\n",
       "</style>\n",
       "<table border=\"1\" class=\"dataframe\">\n",
       "  <thead>\n",
       "    <tr style=\"text-align: right;\">\n",
       "      <th></th>\n",
       "      <th>pt</th>\n",
       "      <th>eta</th>\n",
       "      <th>phi</th>\n",
       "      <th>E</th>\n",
       "    </tr>\n",
       "  </thead>\n",
       "  <tbody>\n",
       "    <tr>\n",
       "      <th>18616</th>\n",
       "      <td>0.038633</td>\n",
       "      <td>0.776237</td>\n",
       "      <td>0.223513</td>\n",
       "      <td>0.036016</td>\n",
       "    </tr>\n",
       "    <tr>\n",
       "      <th>20456</th>\n",
       "      <td>0.004670</td>\n",
       "      <td>0.178687</td>\n",
       "      <td>-1.606629</td>\n",
       "      <td>0.002083</td>\n",
       "    </tr>\n",
       "    <tr>\n",
       "      <th>2433</th>\n",
       "      <td>0.205516</td>\n",
       "      <td>-0.274786</td>\n",
       "      <td>0.045452</td>\n",
       "      <td>0.105301</td>\n",
       "    </tr>\n",
       "    <tr>\n",
       "      <th>3012</th>\n",
       "      <td>0.423106</td>\n",
       "      <td>-0.195726</td>\n",
       "      <td>1.479977</td>\n",
       "      <td>0.207633</td>\n",
       "    </tr>\n",
       "    <tr>\n",
       "      <th>16324</th>\n",
       "      <td>0.022954</td>\n",
       "      <td>-0.574589</td>\n",
       "      <td>-1.632846</td>\n",
       "      <td>0.016520</td>\n",
       "    </tr>\n",
       "  </tbody>\n",
       "</table>\n",
       "</div>"
      ],
      "text/plain": [
       "             pt       eta       phi         E\n",
       "18616  0.038633  0.776237  0.223513  0.036016\n",
       "20456  0.004670  0.178687 -1.606629  0.002083\n",
       "2433   0.205516 -0.274786  0.045452  0.105301\n",
       "3012   0.423106 -0.195726  1.479977  0.207633\n",
       "16324  0.022954 -0.574589 -1.632846  0.016520"
      ]
     },
     "execution_count": 183,
     "metadata": {
      "tags": []
     },
     "output_type": "execute_result"
    }
   ],
   "source": [
    "train.head()"
   ]
  },
  {
   "cell_type": "code",
   "execution_count": 184,
   "metadata": {
    "colab": {
     "base_uri": "https://localhost:8080/"
    },
    "id": "dLS4uYt0fqAC",
    "outputId": "dbac7eb3-2a1b-4a67-acf9-6c933a907a5f"
   },
   "outputs": [
    {
     "name": "stdout",
     "output_type": "stream",
     "text": [
      "Training sample:\n",
      "             pt       eta       phi         E\n",
      "18616  0.038633  0.776237  0.223513  0.036016\n",
      "20456  0.004670  0.178687 -1.606629  0.002083\n",
      "2433   0.205516 -0.274786  0.045452  0.105301\n",
      "3012   0.423106 -0.195726  1.479977  0.207633\n",
      "16324  0.022954 -0.574589 -1.632846  0.016520\n",
      "\n",
      "\n",
      "Testing sample:\n",
      "             pt       eta       phi         E\n",
      "15071  0.093718  1.380912 -0.511494  0.197108\n",
      "16731  0.038081 -0.464128 -0.933871  0.023078\n",
      "3074   0.117203 -0.060904  0.784233  0.054953\n",
      "11782  0.085622  0.574880  1.481292  0.058998\n",
      "19915  0.005070 -1.598305  0.250032  0.035571\n",
      "\n",
      "\n",
      "The number of entries in the training data: 20394\n",
      "The number of entries in the validation data: 2267\n"
     ]
    }
   ],
   "source": [
    "print('Training sample:')\n",
    "print(train.head())\n",
    "\n",
    "print('\\n')\n",
    "\n",
    "print('Testing sample:')\n",
    "print(test.head())\n",
    "\n",
    "print('\\n')\n",
    "\n",
    "print('The number of entries in the training data:', len(train))\n",
    "print('The number of entries in the validation data:', len(test))"
   ]
  },
  {
   "cell_type": "code",
   "execution_count": null,
   "metadata": {
    "id": "cMlzAOuEra5l"
   },
   "outputs": [],
   "source": [
    "! [ -e /content ] && pip install -Uqq fastai ### Installing fastai"
   ]
  },
  {
   "cell_type": "code",
   "execution_count": 186,
   "metadata": {
    "id": "NZSluReYpK2D"
   },
   "outputs": [],
   "source": [
    "import torch\n",
    "import torch.nn as nn\n",
    "import torch.optim as optim\n",
    "import torch.utils.data\n",
    "from torch.autograd import Variable\n",
    "from torch.utils.data import TensorDataset\n",
    "from torch.utils.data import DataLoader\n",
    "from fastai import learner\n",
    "from fastai.data import core\n",
    "train_x = train\n",
    "test_x = test\n",
    "train_y = train_x  \n",
    "test_y = test_x\n",
    "\n",
    "train_ds = TensorDataset(torch.tensor(train_x.values, dtype=torch.float), torch.tensor(train_y.values, dtype=torch.float))\n",
    "valid_ds = TensorDataset(torch.tensor(test_x.values, dtype=torch.float), torch.tensor(test_y.values, dtype=torch.float))"
   ]
  },
  {
   "cell_type": "code",
   "execution_count": 166,
   "metadata": {
    "id": "wWm2g791pTh5"
   },
   "outputs": [],
   "source": [
    "### \n",
    "bs = 256\n",
    "train_dl = DataLoader(train_ds, batch_size=bs, shuffle=True)\n",
    "valid_dl = DataLoader(valid_ds, batch_size=bs * 2)\n",
    "dls = core.DataLoaders(train_dl, valid_dl)"
   ]
  },
  {
   "cell_type": "code",
   "execution_count": 233,
   "metadata": {
    "colab": {
     "base_uri": "https://localhost:8080/"
    },
    "id": "9Ow6Jhk7rOkl",
    "outputId": "95bf2087-2dd6-4116-fed9-eade81020501"
   },
   "outputs": [
    {
     "data": {
      "text/plain": [
       "AE_3D_200_LeakyReLU(\n",
       "  (en1): Linear(in_features=4, out_features=200, bias=True)\n",
       "  (en2): Linear(in_features=200, out_features=100, bias=True)\n",
       "  (en3): Linear(in_features=100, out_features=50, bias=True)\n",
       "  (en4): Linear(in_features=50, out_features=3, bias=True)\n",
       "  (de1): Linear(in_features=3, out_features=50, bias=True)\n",
       "  (de2): Linear(in_features=50, out_features=100, bias=True)\n",
       "  (de3): Linear(in_features=100, out_features=200, bias=True)\n",
       "  (de4): Linear(in_features=200, out_features=4, bias=True)\n",
       "  (tanh): Tanh()\n",
       ")"
      ]
     },
     "execution_count": 233,
     "metadata": {
      "tags": []
     },
     "output_type": "execute_result"
    }
   ],
   "source": [
    "### Model Config\n",
    "class AE_3D_200_LeakyReLU(nn.Module):\n",
    "    def __init__(self, n_features=4):\n",
    "        super(AE_3D_200_LeakyReLU, self).__init__()\n",
    "        self.en1 = nn.Linear(n_features, 200)\n",
    "        self.en2 = nn.Linear(200, 100)\n",
    "        self.en3 = nn.Linear(100, 50)\n",
    "        self.en4 = nn.Linear(50, 3)\n",
    "        self.de1 = nn.Linear(3, 50)\n",
    "        self.de2 = nn.Linear(50, 100)\n",
    "        self.de3 = nn.Linear(100, 200)\n",
    "        self.de4 = nn.Linear(200, n_features)\n",
    "        self.tanh = nn.Tanh()\n",
    "\n",
    "    def encode(self, x):\n",
    "        return self.en4(self.tanh(self.en3(self.tanh(self.en2(self.tanh(self.en1(x)))))))\n",
    "\n",
    "    def decode(self, x):\n",
    "        return self.de4(self.tanh(self.de3(self.tanh(self.de2(self.tanh(self.de1(self.tanh(x))))))))\n",
    "\n",
    "    def forward(self, x):\n",
    "        z = self.encode(x)\n",
    "        return self.decode(z)\n",
    "\n",
    "    def describe(self):\n",
    "        return 'in-200-100-50-3-50-100-200-out'\n",
    "\n",
    "#model = AE_3D_200_LeakyReLU().double()\n",
    "model = AE_3D_200_LeakyReLU()\n",
    "model.to('cpu')"
   ]
  },
  {
   "cell_type": "code",
   "execution_count": 234,
   "metadata": {
    "colab": {
     "base_uri": "https://localhost:8080/"
    },
    "id": "Wa4RPQRjDrUu",
    "outputId": "43c37e84-ad49-4e70-9600-33725eff09c5"
   },
   "outputs": [
    {
     "name": "stdout",
     "output_type": "stream",
     "text": [
      "in-200-100-50-3-50-100-200-out\n"
     ]
    }
   ],
   "source": [
    "print(model.describe())"
   ]
  },
  {
   "cell_type": "code",
   "execution_count": 235,
   "metadata": {
    "id": "Oh_SifVpsXgJ"
   },
   "outputs": [],
   "source": [
    "from fastai.metrics import mse\n",
    "\n",
    "loss_func = nn.MSELoss()\n",
    "\n",
    "\n",
    "wd = 1e-6\n",
    "\n",
    "recorder = learner.Recorder()\n",
    "learn = learner.Learner(dls, model=model, wd=wd, loss_func=loss_func, cbs=recorder)\n",
    "#was: learn = basic_train.Learner(data=db, model=model, loss_func=loss_func, wd=wd, callback_fns=ActivationStats, bn_wd=bn_wd, true_wd=true_wd)"
   ]
  },
  {
   "cell_type": "code",
   "execution_count": 236,
   "metadata": {
    "colab": {
     "base_uri": "https://localhost:8080/",
     "height": 317
    },
    "id": "f83zjcZGsfca",
    "outputId": "2a728d93-6df7-4a6b-9e50-d37acf79f3e5"
   },
   "outputs": [
    {
     "name": "stdout",
     "output_type": "stream",
     "text": [
      "Learning rate with the minimum loss: 0.002754228748381138\n",
      "Learning rate with the steepest gradient: 0.0030199517495930195\n"
     ]
    },
    {
     "data": {
      "image/png": "[encoded data removed]",
      "text/plain": [
       "<Figure size 432x288 with 1 Axes>"
      ]
     },
     "metadata": {
      "needs_background": "light",
      "tags": []
     },
     "output_type": "display_data"
    }
   ],
   "source": [
    "from fastai.callback import schedule\n",
    "\n",
    "lr_min, lr_steep = learn.lr_find()\n",
    "\n",
    "print('Learning rate with the minimum loss:', lr_min)\n",
    "print('Learning rate with the steepest gradient:', lr_steep)"
   ]
  },
  {
   "cell_type": "code",
   "execution_count": 237,
   "metadata": {
    "colab": {
     "base_uri": "https://localhost:8080/"
    },
    "id": "KXYxzAMOssOX",
    "outputId": "5a7d2fa6-3ea2-47e2-b6f3-0abf79b680cc"
   },
   "outputs": [
    {
     "name": "stdout",
     "output_type": "stream",
     "text": [
      "[0, 0.3556936979293823, 0.21404989063739777, '00:00']\n",
      "[0, 0.3556936979293823, 0.21404989063739777, '00:00']\n",
      "[1, 0.11768823117017746, 0.04085414111614227, '00:00']\n",
      "[1, 0.11768823117017746, 0.04085414111614227, '00:00']\n",
      "[2, 0.042640116065740585, 0.017737416550517082, '00:00']\n",
      "[2, 0.042640116065740585, 0.017737416550517082, '00:00']\n",
      "[3, 0.01779799349606037, 0.008978010155260563, '00:00']\n",
      "[3, 0.01779799349606037, 0.008978010155260563, '00:00']\n",
      "[4, 0.008829230442643166, 0.005302636418491602, '00:01']\n",
      "[4, 0.008829230442643166, 0.005302636418491602, '00:01']\n",
      "[5, 0.003341321600601077, 0.0014335316373035312, '00:00']\n",
      "[5, 0.003341321600601077, 0.0014335316373035312, '00:00']\n",
      "[6, 0.0016892221756279469, 0.0012687880080193281, '00:00']\n",
      "[6, 0.0016892221756279469, 0.0012687880080193281, '00:00']\n",
      "[7, 0.0012886094627901912, 0.0010024537332355976, '00:00']\n",
      "[7, 0.0012886094627901912, 0.0010024537332355976, '00:00']\n",
      "[8, 0.0011186044430360198, 0.0009418755653314292, '00:00']\n",
      "[8, 0.0011186044430360198, 0.0009418755653314292, '00:00']\n",
      "[9, 0.001094760955311358, 0.001262839650735259, '00:00']\n",
      "[9, 0.001094760955311358, 0.001262839650735259, '00:00']\n",
      "[10, 0.0012048350181430578, 0.0010059874039143324, '00:00']\n",
      "[10, 0.0012048350181430578, 0.0010059874039143324, '00:00']\n",
      "[11, 0.001435134676285088, 0.0018482017330825329, '00:00']\n",
      "[11, 0.001435134676285088, 0.0018482017330825329, '00:00']\n",
      "[12, 0.0012345603900030255, 0.0012151618720963597, '00:00']\n",
      "[12, 0.0012345603900030255, 0.0012151618720963597, '00:00']\n",
      "[13, 0.0013746455078944564, 0.001292163971811533, '00:00']\n",
      "[13, 0.0013746455078944564, 0.001292163971811533, '00:00']\n",
      "[14, 0.0016862418269738555, 0.0006252482417039573, '00:00']\n",
      "[14, 0.0016862418269738555, 0.0006252482417039573, '00:00']\n",
      "[15, 0.0016953482991084456, 0.003573064226657152, '00:00']\n",
      "[15, 0.0016953482991084456, 0.003573064226657152, '00:00']\n",
      "[16, 0.0020081750117242336, 0.001373907784000039, '00:00']\n",
      "[16, 0.0020081750117242336, 0.001373907784000039, '00:00']\n",
      "[17, 0.0018752526957541704, 0.0018123650224879384, '00:00']\n",
      "[17, 0.0018752526957541704, 0.0018123650224879384, '00:00']\n",
      "[18, 0.0019463570788502693, 0.0030724091921001673, '00:00']\n",
      "[18, 0.0019463570788502693, 0.0030724091921001673, '00:00']\n",
      "[19, 0.001807484426535666, 0.0008040764951147139, '00:00']\n",
      "[19, 0.001807484426535666, 0.0008040764951147139, '00:00']\n",
      "[20, 0.0023671137169003487, 0.0013773515820503235, '00:00']\n",
      "[20, 0.0023671137169003487, 0.0013773515820503235, '00:00']\n",
      "[21, 0.0018363083945587277, 0.0033454352524131536, '00:00']\n",
      "[21, 0.0018363083945587277, 0.0033454352524131536, '00:00']\n",
      "[22, 0.0016646343283355236, 0.0009396519744768739, '00:00']\n",
      "[22, 0.0016646343283355236, 0.0009396519744768739, '00:00']\n",
      "[23, 0.0018430944764986634, 0.0036482270807027817, '00:00']\n",
      "[23, 0.0018430944764986634, 0.0036482270807027817, '00:00']\n",
      "[24, 0.0015021476428955793, 0.000807034142781049, '00:00']\n",
      "[24, 0.0015021476428955793, 0.000807034142781049, '00:00']\n",
      "[25, 0.0015444887103512883, 0.005304483696818352, '00:00']\n",
      "[25, 0.0015444887103512883, 0.005304483696818352, '00:00']\n",
      "[26, 0.001490686321631074, 0.0002607663336675614, '00:00']\n",
      "[26, 0.001490686321631074, 0.0002607663336675614, '00:00']\n",
      "[27, 0.0011487521696835756, 0.0008011428872123361, '00:00']\n",
      "[27, 0.0011487521696835756, 0.0008011428872123361, '00:00']\n",
      "[28, 0.0010366484057158232, 0.0007200246909633279, '00:00']\n",
      "[28, 0.0010366484057158232, 0.0007200246909633279, '00:00']\n",
      "[29, 0.0012045622570440173, 0.00048199386219494045, '00:00']\n",
      "[29, 0.0012045622570440173, 0.00048199386219494045, '00:00']\n",
      "[30, 0.000888246635440737, 0.0003202989464625716, '00:00']\n",
      "[30, 0.000888246635440737, 0.0003202989464625716, '00:00']\n",
      "[31, 0.0015525785274803638, 0.0008041525143198669, '00:01']\n",
      "[31, 0.0015525785274803638, 0.0008041525143198669, '00:01']\n",
      "[32, 0.0008686727960593998, 0.0006077906000427902, '00:00']\n",
      "[32, 0.0008686727960593998, 0.0006077906000427902, '00:00']\n",
      "[33, 0.0008145307656377554, 0.00028682913398370147, '00:00']\n",
      "[33, 0.0008145307656377554, 0.00028682913398370147, '00:00']\n",
      "[34, 0.0008047026349231601, 0.001012123073451221, '00:00']\n",
      "[34, 0.0008047026349231601, 0.001012123073451221, '00:00']\n",
      "[35, 0.0009142731432802975, 0.0015791868790984154, '00:00']\n",
      "[35, 0.0009142731432802975, 0.0015791868790984154, '00:00']\n",
      "[36, 0.0007391906110569835, 0.0004033692821394652, '00:00']\n",
      "[36, 0.0007391906110569835, 0.0004033692821394652, '00:00']\n",
      "[37, 0.0008052562479861081, 0.0013968298444524407, '00:00']\n",
      "[37, 0.0008052562479861081, 0.0013968298444524407, '00:00']\n",
      "[38, 0.0005737653118558228, 0.00034490120015107095, '00:00']\n",
      "[38, 0.0005737653118558228, 0.00034490120015107095, '00:00']\n",
      "[39, 0.001258186879567802, 0.00014474961790256202, '00:00']\n",
      "[39, 0.001258186879567802, 0.00014474961790256202, '00:00']\n",
      "[40, 0.0005351024447008967, 0.00036570217343978584, '00:00']\n",
      "[40, 0.0005351024447008967, 0.00036570217343978584, '00:00']\n",
      "[41, 0.0004610791802406311, 0.00046779890544712543, '00:00']\n",
      "[41, 0.0004610791802406311, 0.00046779890544712543, '00:00']\n",
      "[42, 0.0005107053439132869, 0.002070907037705183, '00:00']\n",
      "[42, 0.0005107053439132869, 0.002070907037705183, '00:00']\n",
      "[43, 0.0005740095512010157, 0.0006164804799482226, '00:00']\n",
      "[43, 0.0005740095512010157, 0.0006164804799482226, '00:00']\n",
      "[44, 0.000556734565179795, 0.00032466542324982584, '00:00']\n",
      "[44, 0.000556734565179795, 0.00032466542324982584, '00:00']\n",
      "[45, 0.00040836355765350163, 0.000278390507446602, '00:00']\n",
      "[45, 0.00040836355765350163, 0.000278390507446602, '00:00']\n",
      "[46, 0.00047898272168822587, 0.0015160118928179145, '00:00']\n",
      "[46, 0.00047898272168822587, 0.0015160118928179145, '00:00']\n",
      "[47, 0.0003755055367946625, 8.665303903399035e-05, '00:00']\n",
      "[47, 0.0003755055367946625, 8.665303903399035e-05, '00:00']\n",
      "[48, 0.00028808912611566484, 0.0002158820570912212, '00:00']\n",
      "[48, 0.00028808912611566484, 0.0002158820570912212, '00:00']\n",
      "[49, 0.000275471800705418, 0.0004518252972047776, '00:00']\n",
      "[49, 0.000275471800705418, 0.0004518252972047776, '00:00']\n",
      "[50, 0.00031204294646158814, 0.0001275031827390194, '00:00']\n",
      "[50, 0.00031204294646158814, 0.0001275031827390194, '00:00']\n",
      "[51, 0.00036352802999317646, 0.00023989289184100926, '00:00']\n",
      "[51, 0.00036352802999317646, 0.00023989289184100926, '00:00']\n",
      "[52, 0.00025134184397757053, 0.0002689054817892611, '00:00']\n",
      "[52, 0.00025134184397757053, 0.0002689054817892611, '00:00']\n",
      "[53, 0.00024222602951340377, 0.00016033386054914445, '00:00']\n",
      "[53, 0.00024222602951340377, 0.00016033386054914445, '00:00']\n",
      "[54, 0.00019898555183317512, 0.0001290096261072904, '00:00']\n",
      "[54, 0.00019898555183317512, 0.0001290096261072904, '00:00']\n",
      "[55, 0.0002058668906101957, 0.00016003254859242588, '00:00']\n",
      "[55, 0.0002058668906101957, 0.00016003254859242588, '00:00']\n",
      "[56, 0.00017536360246594995, 9.077403228729963e-05, '00:00']\n",
      "[56, 0.00017536360246594995, 9.077403228729963e-05, '00:00']\n",
      "[57, 0.0001399766479153186, 7.567186548840255e-05, '00:00']\n",
      "[57, 0.0001399766479153186, 7.567186548840255e-05, '00:00']\n",
      "[58, 0.00012701847299467772, 0.00015773052291478962, '00:00']\n",
      "[58, 0.00012701847299467772, 0.00015773052291478962, '00:00']\n",
      "[59, 0.00013469708210323006, 6.98012372595258e-05, '00:00']\n",
      "[59, 0.00013469708210323006, 6.98012372595258e-05, '00:00']\n",
      "[60, 0.00010782107710838318, 0.00011853248724946752, '00:00']\n",
      "[60, 0.00010782107710838318, 0.00011853248724946752, '00:00']\n",
      "[61, 8.895761129679158e-05, 5.157417035661638e-05, '00:01']\n",
      "[61, 8.895761129679158e-05, 5.157417035661638e-05, '00:01']\n",
      "[62, 8.174419053830206e-05, 4.7440858907066286e-05, '00:00']\n",
      "[62, 8.174419053830206e-05, 4.7440858907066286e-05, '00:00']\n",
      "[63, 0.0001015469097183086, 3.117577580269426e-05, '00:00']\n",
      "[63, 0.0001015469097183086, 3.117577580269426e-05, '00:00']\n",
      "[64, 6.289262091740966e-05, 3.645741890068166e-05, '00:00']\n",
      "[64, 6.289262091740966e-05, 3.645741890068166e-05, '00:00']\n",
      "[65, 5.85275593039114e-05, 3.7395064282463863e-05, '00:00']\n",
      "[65, 5.85275593039114e-05, 3.7395064282463863e-05, '00:00']\n",
      "[66, 4.9656166083877906e-05, 2.7767711799242534e-05, '00:00']\n",
      "[66, 4.9656166083877906e-05, 2.7767711799242534e-05, '00:00']\n",
      "[67, 4.59734073956497e-05, 0.0001168537637568079, '00:00']\n",
      "[67, 4.59734073956497e-05, 0.0001168537637568079, '00:00']\n",
      "[68, 4.7165460273390636e-05, 2.9772365451208316e-05, '00:00']\n",
      "[68, 4.7165460273390636e-05, 2.9772365451208316e-05, '00:00']\n",
      "[69, 3.5301829484524205e-05, 2.7657284590532072e-05, '00:00']\n",
      "[69, 3.5301829484524205e-05, 2.7657284590532072e-05, '00:00']\n",
      "[70, 3.074684354942292e-05, 5.04808449477423e-05, '00:00']\n",
      "[70, 3.074684354942292e-05, 5.04808449477423e-05, '00:00']\n",
      "[71, 3.6009038012707606e-05, 3.741724867722951e-05, '00:00']\n",
      "[71, 3.6009038012707606e-05, 3.741724867722951e-05, '00:00']\n",
      "[72, 2.574520476628095e-05, 1.1353001355018932e-05, '00:00']\n",
      "[72, 2.574520476628095e-05, 1.1353001355018932e-05, '00:00']\n",
      "[73, 2.5189285224769264e-05, 1.633772444620263e-05, '00:00']\n",
      "[73, 2.5189285224769264e-05, 1.633772444620263e-05, '00:00']\n",
      "[74, 1.9873528799507767e-05, 1.3046475942246616e-05, '00:00']\n",
      "[74, 1.9873528799507767e-05, 1.3046475942246616e-05, '00:00']\n",
      "[75, 1.816271287680138e-05, 1.7002977983793244e-05, '00:00']\n",
      "[75, 1.816271287680138e-05, 1.7002977983793244e-05, '00:00']\n",
      "[76, 1.6783824321464635e-05, 1.5235748833219986e-05, '00:00']\n",
      "[76, 1.6783824321464635e-05, 1.5235748833219986e-05, '00:00']\n",
      "[77, 1.4640580047853291e-05, 1.192437866848195e-05, '00:00']\n",
      "[77, 1.4640580047853291e-05, 1.192437866848195e-05, '00:00']\n",
      "[78, 1.4155231838230975e-05, 1.1004448424500879e-05, '00:00']\n",
      "[78, 1.4155231838230975e-05, 1.1004448424500879e-05, '00:00']\n",
      "[79, 1.3121254596626386e-05, 1.1337200703565031e-05, '00:00']\n",
      "[79, 1.3121254596626386e-05, 1.1337200703565031e-05, '00:00']\n",
      "[80, 1.1776220162573736e-05, 1.0010775440605357e-05, '00:00']\n",
      "[80, 1.1776220162573736e-05, 1.0010775440605357e-05, '00:00']\n",
      "[81, 1.0547009878791869e-05, 9.236958248948213e-06, '00:00']\n",
      "[81, 1.0547009878791869e-05, 9.236958248948213e-06, '00:00']\n",
      "[82, 9.441325346415397e-06, 8.476852599414997e-06, '00:00']\n",
      "[82, 9.441325346415397e-06, 8.476852599414997e-06, '00:00']\n",
      "[83, 8.860347406880464e-06, 9.233459422830492e-06, '00:00']\n",
      "[83, 8.860347406880464e-06, 9.233459422830492e-06, '00:00']\n",
      "[84, 8.847365279507358e-06, 7.738776730548125e-06, '00:00']\n",
      "[84, 8.847365279507358e-06, 7.738776730548125e-06, '00:00']\n",
      "[85, 8.57001850818051e-06, 6.789818144170567e-06, '00:00']\n",
      "[85, 8.57001850818051e-06, 6.789818144170567e-06, '00:00']\n",
      "[86, 7.88308898336254e-06, 6.815883352828678e-06, '00:00']\n",
      "[86, 7.88308898336254e-06, 6.815883352828678e-06, '00:00']\n",
      "[87, 7.395784450636711e-06, 5.542692179005826e-06, '00:00']\n",
      "[87, 7.395784450636711e-06, 5.542692179005826e-06, '00:00']\n",
      "[88, 7.3339683694939595e-06, 5.6046719691948965e-06, '00:00']\n",
      "[88, 7.3339683694939595e-06, 5.6046719691948965e-06, '00:00']\n",
      "[89, 6.650764134974452e-06, 5.365501237974968e-06, '00:00']\n",
      "[89, 6.650764134974452e-06, 5.365501237974968e-06, '00:00']\n",
      "[90, 6.505349119834136e-06, 5.191248419578187e-06, '00:00']\n",
      "[90, 6.505349119834136e-06, 5.191248419578187e-06, '00:00']\n",
      "[91, 6.51149684927077e-06, 5.284296548779821e-06, '00:00']\n",
      "[91, 6.51149684927077e-06, 5.284296548779821e-06, '00:00']\n",
      "[92, 6.446074166888138e-06, 5.38982340003713e-06, '00:00']\n",
      "[92, 6.446074166888138e-06, 5.38982340003713e-06, '00:00']\n",
      "[93, 6.156714789540274e-06, 5.16952468387899e-06, '00:00']\n",
      "[93, 6.156714789540274e-06, 5.16952468387899e-06, '00:00']\n",
      "[94, 6.243185907806037e-06, 4.850393906963291e-06, '00:00']\n",
      "[94, 6.243185907806037e-06, 4.850393906963291e-06, '00:00']\n",
      "[95, 6.073657914384967e-06, 4.794805590790929e-06, '00:01']\n",
      "[95, 6.073657914384967e-06, 4.794805590790929e-06, '00:01']\n",
      "[96, 5.959091595286736e-06, 4.697416898125084e-06, '00:00']\n",
      "[96, 5.959091595286736e-06, 4.697416898125084e-06, '00:00']\n",
      "[97, 6.012935955368448e-06, 4.70942404717789e-06, '00:00']\n",
      "[97, 6.012935955368448e-06, 4.70942404717789e-06, '00:00']\n",
      "[98, 5.8749228628585115e-06, 4.6868976824043784e-06, '00:00']\n",
      "[98, 5.8749228628585115e-06, 4.6868976824043784e-06, '00:00']\n",
      "[99, 5.904505087528378e-06, 4.680944130086573e-06, '00:00']\n",
      "[99, 5.904505087528378e-06, 4.680944130086573e-06, '00:00']\n",
      "Training took 90.9055481510004 seconds\n"
     ]
    }
   ],
   "source": [
    "import time\n",
    "\n",
    "start = time.perf_counter() # Starts timer\n",
    "learn.fit_one_cycle(n_epoch=100, lr_max=lr_min)\n",
    "end = time.perf_counter() # Ends timer\n",
    "delta_t = end - start\n",
    "print('Training took', delta_t, 'seconds')"
   ]
  },
  {
   "cell_type": "code",
   "execution_count": 238,
   "metadata": {
    "colab": {
     "base_uri": "https://localhost:8080/",
     "height": 265
    },
    "id": "JlRWFDjgwTIS",
    "outputId": "4090336f-94db-4cb1-a551-d63ec5e426f8"
   },
   "outputs": [
    {
     "data": {
      "image/png": "[encoded data removed]",
      "text/plain": [
       "<Figure size 432x288 with 1 Axes>"
      ]
     },
     "metadata": {
      "needs_background": "light",
      "tags": []
     },
     "output_type": "display_data"
    }
   ],
   "source": [
    "recorder.plot_loss()"
   ]
  },
  {
   "cell_type": "code",
   "execution_count": 239,
   "metadata": {
    "colab": {
     "base_uri": "https://localhost:8080/"
    },
    "id": "FVD_BwHXww3x",
    "outputId": "60ae6e45-84b2-4580-d49f-2adbc4e2659f"
   },
   "outputs": [
    {
     "data": {
      "text/plain": [
       "(#1) [4.680944130086573e-06]"
      ]
     },
     "execution_count": 239,
     "metadata": {
      "tags": []
     },
     "output_type": "execute_result"
    }
   ],
   "source": [
    "learn.validate()"
   ]
  },
  {
   "cell_type": "code",
   "execution_count": 240,
   "metadata": {
    "id": "mTcs9XY6w5YS"
   },
   "outputs": [],
   "source": [
    "import os\n",
    "save_dir = \"plotOutput\"\n",
    "if not os.path.exists(save_dir):\n",
    "    os.makedirs(save_dir)"
   ]
  },
  {
   "cell_type": "code",
   "execution_count": 241,
   "metadata": {
    "id": "Fcc1jYeoz4la"
   },
   "outputs": [],
   "source": [
    "def custom_unnormalize(df):\n",
    "    df['eta'] = df['eta'] * 5\n",
    "    df['phi'] = df['phi'] * 3\n",
    "    df['pt'] = 10**(df['pt'])\n",
    "    df['E'] = 10**df['E']\n",
    "    return df"
   ]
  },
  {
   "cell_type": "code",
   "execution_count": 242,
   "metadata": {
    "colab": {
     "base_uri": "https://localhost:8080/",
     "height": 1000
    },
    "id": "GTGOLaSV0Aah",
    "outputId": "5d2825ef-d3b8-4196-a05b-4a2f6d4b0841"
   },
   "outputs": [
    {
     "data": {
      "image/png": "[encoded data removed]",
      "text/plain": [
       "<Figure size 432x288 with 1 Axes>"
      ]
     },
     "metadata": {
      "needs_background": "light",
      "tags": []
     },
     "output_type": "display_data"
    },
    {
     "data": {
      "image/png": "[encoded data removed]",
      "text/plain": [
       "<Figure size 432x288 with 1 Axes>"
      ]
     },
     "metadata": {
      "needs_background": "light",
      "tags": []
     },
     "output_type": "display_data"
    },
    {
     "data": {
      "image/png": "[encoded data removed]",
      "text/plain": [
       "<Figure size 432x288 with 1 Axes>"
      ]
     },
     "metadata": {
      "needs_background": "light",
      "tags": []
     },
     "output_type": "display_data"
    },
    {
     "data": {
      "image/png": "[encoded data removed]",
      "text/plain": [
       "<Figure size 432x288 with 1 Axes>"
      ]
     },
     "metadata": {
      "needs_background": "light",
      "tags": []
     },
     "output_type": "display_data"
    }
   ],
   "source": [
    "import numpy as np\n",
    "\n",
    "plt.close('all')\n",
    "unit_list = ['[GeV]', '[rad]', '[rad]', '[GeV]']\n",
    "variable_list = [r'$p_T$', r'$\\eta$', r'$\\phi$', r'$E$']\n",
    "line_style = ['--', '-']\n",
    "colors = ['orange', 'c']\n",
    "markers = ['*', 's']\n",
    "\n",
    "model.to('cpu')\n",
    "\n",
    "save = True # Option to save figure\n",
    "\n",
    "# Histograms\n",
    "idxs = (0, 100000)  # Choose events to compare\n",
    "data = torch.tensor(test[idxs[0]:idxs[1]].values, dtype=torch.float)\n",
    "#data = torch.tensor(test[idxs[0]:idxs[1]].values, dtype=torch.float).double()\n",
    "pred = model(data)\n",
    "pred = pred.detach().numpy()\n",
    "data = data.detach().numpy()\n",
    "\n",
    "data_df = pd.DataFrame(data, columns=test.columns)\n",
    "pred_df = pd.DataFrame(pred, columns=test.columns)\n",
    "\n",
    "unnormalized_data_df = custom_unnormalize(data_df)\n",
    "unnormalized_pred_df = custom_unnormalize(pred_df)    \n",
    "    \n",
    "alph = 0.8\n",
    "n_bins = 100\n",
    "for kk in np.arange(4):\n",
    "    plt.figure()\n",
    "    n_hist_data, bin_edges, _ = plt.hist(data[:, kk], color=colors[1], label='Input', alpha=1, bins=n_bins)\n",
    "    n_hist_pred, _, _ = plt.hist(pred[:, kk], color=colors[0], label='Output', alpha=alph, bins=bin_edges)\n",
    "    plt.suptitle(test.columns[kk])\n",
    "    plt.xlabel(test.columns[kk])\n",
    "    plt.ylabel('Number of events')\n",
    "    # ms.sciy()\n",
    "    plt.yscale('log')\n",
    "    if save:\n",
    "        plt.savefig(os.path.join(save_dir,test.columns[kk]+'.png'))\n",
    "    plt.legend()\n"
   ]
  },
  {
   "cell_type": "code",
   "execution_count": 243,
   "metadata": {
    "colab": {
     "base_uri": "https://localhost:8080/"
    },
    "id": "OxKFlZn2IJKP",
    "outputId": "863e677f-258d-4d56-b3dd-1aa7d6dc5d09"
   },
   "outputs": [
    {
     "name": "stdout",
     "output_type": "stream",
     "text": [
      "[-0.018617021276595744, 0.038461538461538464, 0.0, -0.005291005291005291, 0.05925925925925926, 0.0, -0.010638297872340425, -0.043478260869565216, -0.04054054054054054, 0.043478260869565216, -0.05357142857142857, 0.018867924528301886, -0.05263157894736842, -0.07692307692307693, 0.021739130434782608, 0.06666666666666667, -0.12, -0.07692307692307693, 0.08333333333333333, -0.038461538461538464, 0.0, 0.125, -0.18181818181818182, 0.0625, -0.10526315789473684, -0.058823529411764705, 0.21428571428571427, 0.0, -0.16666666666666666, 0.125, 0.0, -0.125, 0.2, -0.3333333333333333, 0.0, 2.0, 0.3333333333333333, 0.0, 0.25, -0.5, 0.3333333333333333, inf, -0.4, 0.6666666666666666, 2.0, -0.5, -0.5, inf, None, 0.0, 0.0, 0.0, 0.0, 2.0, None, None, 2.0, -0.5, 0.0, 0.0, inf, 0.0, 0.0, None, inf, None, None, 0.0, 0.0, inf, inf, -0.6666666666666666, inf, 0.0, None, 0.0, 0.0, 0.0, 0.0, 0.0, 0.0, 0.0, 0.0, 0.0, 1.0, None, 0.0, 0.0, 0.0, 0.0, 0.0, 0.0, 0.0, 0.0, 0.0, 0.0, 0.0, 0.0, 0.0, 0.0]\n"
     ]
    },
    {
     "name": "stderr",
     "output_type": "stream",
     "text": [
      "/usr/local/lib/python3.7/dist-packages/ipykernel_launcher.py:9: RuntimeWarning: divide by zero encountered in double_scalars\n",
      "  if __name__ == '__main__':\n"
     ]
    }
   ],
   "source": [
    "def getRatio(bin1,bin2):\n",
    "    bins = []\n",
    "    for b1,b2 in zip(bin1,bin2):\n",
    "        if b1==0 and b2==0:\n",
    "            bins.append(0.)\n",
    "        elif b2==0:\n",
    "            bins.append(None)\n",
    "        else:\n",
    "            bins.append((float(b2)-float(b1))/b1)\n",
    "    return bins   \n",
    "\n",
    "rat = getRatio(n_hist_data,n_hist_pred)\n",
    "print(rat)"
   ]
  },
  {
   "cell_type": "code",
   "execution_count": null,
   "metadata": {
    "id": "uP6IMw9oRFvP"
   },
   "outputs": [],
   "source": []
  }
 ],
 "metadata": {
  "colab": {
   "name": "TLA_4D.ipynb",
   "provenance": []
  },
  "kernelspec": {
   "display_name": "Python 3",
   "language": "python",
   "name": "python3"
  },
  "language_info": {
   "codemirror_mode": {
    "name": "ipython",
    "version": 3
   },
   "file_extension": ".py",
   "mimetype": "text/x-python",
   "name": "python",
   "nbconvert_exporter": "python",
   "pygments_lexer": "ipython3",
   "version": "3.8.3"
  }
 },
 "nbformat": 4,
 "nbformat_minor": 1
}
